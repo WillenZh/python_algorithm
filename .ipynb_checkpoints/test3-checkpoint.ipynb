{
 "cells": [
  {
   "cell_type": "code",
   "execution_count": 65,
   "metadata": {
    "collapsed": true
   },
   "outputs": [],
   "source": [
    "from random import randint\n",
    "from heapq import merge\n",
    "import time"
   ]
  },
  {
   "cell_type": "code",
   "execution_count": 83,
   "metadata": {
    "collapsed": true
   },
   "outputs": [],
   "source": [
    "number = 0"
   ]
  },
  {
   "cell_type": "code",
   "execution_count": 84,
   "metadata": {},
   "outputs": [],
   "source": [
    "#快速排序的实现\n",
    "def quickSort(myList):\n",
    "    global number\n",
    "    if len(myList) <= 1:\n",
    "        return myList\n",
    "    else:\n",
    "        number += 1\n",
    "        pivot = myList[0]\n",
    "        left = [x for x in myList[1:] if x < pivot]\n",
    "        right = [x for x in myList[1:] if x >= pivot]\n",
    "        return quickSort(left) + [pivot] + quickSort(right)"
   ]
  },
  {
   "cell_type": "code",
   "execution_count": 85,
   "metadata": {
    "collapsed": true
   },
   "outputs": [],
   "source": [
    "#合并排序的实现\n",
    "def merge_sort(myList):\n",
    "    if len(myList) <= 1:\n",
    "        return myList\n",
    "    else:              \n",
    "        middle = len(myList)//2\n",
    "        left = merge_sort(myList[:middle])\n",
    "        right = merge_sort(myList[middle:])\n",
    "        return list(merge(left, right))         #heapq.merge()"
   ]
  },
  {
   "cell_type": "code",
   "execution_count": 93,
   "metadata": {
    "collapsed": true
   },
   "outputs": [],
   "source": [
    "#合并排序的实现\n",
    "def merge_sort2(myList):   #此方法来自维基百科：http://zh.wikipedia.org/zh/%E5%BD%92%E5%B9%B6%E6%8E%92%E5%BA%8F\n",
    "    if len(myList) <= 1:\n",
    "        return myList\n",
    "                 \n",
    "    def merge(left, right):\n",
    "        merged = []\n",
    "        \n",
    "        while left and right:\n",
    "            merged.append(left.pop(0) if left[0] <= right[0] else right.pop(0))\n",
    "        \n",
    "        while left:\n",
    "            merged.append(left.pop(0))\n",
    "        \n",
    "        while right:\n",
    "            merged.append(right.pop(0))\n",
    "        \n",
    "        return merged\n",
    "        \n",
    "    middle = int(len(myList) // 2) \n",
    "    left = merge_sort(myList[:middle])\n",
    "    right = merge_sort(myList[middle:])\n",
    "    return merge(left, right)"
   ]
  },
  {
   "cell_type": "code",
   "execution_count": 99,
   "metadata": {
    "collapsed": true
   },
   "outputs": [],
   "source": [
    "myList = []\n",
    "for index in range(100000):\n",
    "    myList.append(randint(1,10000))"
   ]
  },
  {
   "cell_type": "code",
   "execution_count": 95,
   "metadata": {},
   "outputs": [
    {
     "name": "stdout",
     "output_type": "stream",
     "text": [
      "1874 7657 2880 6774 288 5392 2574 3216 675 5501 520 6490 3471 4995 4581 44\n"
     ]
    }
   ],
   "source": [
    "print(*myList)"
   ]
  },
  {
   "cell_type": "code",
   "execution_count": 96,
   "metadata": {},
   "outputs": [
    {
     "name": "stdout",
     "output_type": "stream",
     "text": [
      "[44, 288, 520, 675, 1874, 2574, 2880, 3216, 3471, 4581, 4995, 5392, 5501, 6490, 6774, 7657]\n",
      "时间：0.000000, 分割次数：11\n"
     ]
    }
   ],
   "source": [
    "number = 0\n",
    "start = time.time()\n",
    "print(quickSort(myList))\n",
    "#quickSort(myList)\n",
    "end = time.time()\n",
    "print(\"时间：%f, 分割次数：%d\" % ((end-start), number))"
   ]
  },
  {
   "cell_type": "code",
   "execution_count": 100,
   "metadata": {},
   "outputs": [
    {
     "name": "stdout",
     "output_type": "stream",
     "text": [
      "时间：1.357405\n"
     ]
    }
   ],
   "source": [
    "start = time.time()\n",
    "#print(merge_sort(myList))\n",
    "merge_sort(myList)\n",
    "end = time.time()\n",
    "print(\"时间：%f\" % (end-start))"
   ]
  },
  {
   "cell_type": "code",
   "execution_count": 101,
   "metadata": {},
   "outputs": [
    {
     "name": "stdout",
     "output_type": "stream",
     "text": [
      "时间：2.167606\n"
     ]
    }
   ],
   "source": [
    "start = time.time()\n",
    "#print(merge_sort2(myList))\n",
    "merge_sort2(myList)\n",
    "end = time.time()\n",
    "print(\"时间：%f\" % (end-start))"
   ]
  },
  {
   "cell_type": "markdown",
   "metadata": {},
   "source": [
    "## 基本数据类型的使用"
   ]
  },
  {
   "cell_type": "markdown",
   "metadata": {},
   "source": [
    "### 1、元祖："
   ]
  },
  {
   "cell_type": "code",
   "execution_count": 102,
   "metadata": {
    "collapsed": true
   },
   "outputs": [],
   "source": [
    "#tuple:元组,元组将多样的对象集合到一起,不能修改,通过索引进行查找, 使用括号”()”;\n",
    "#tuple, 把一些数据当做一个整体去使用,不能修改;\n",
    "aa = (1,2,3,4,5)"
   ]
  },
  {
   "cell_type": "code",
   "execution_count": 117,
   "metadata": {},
   "outputs": [
    {
     "data": {
      "text/plain": [
       "3"
      ]
     },
     "execution_count": 117,
     "metadata": {},
     "output_type": "execute_result"
    }
   ],
   "source": [
    "aa[2]"
   ]
  },
  {
   "cell_type": "markdown",
   "metadata": {},
   "source": [
    "### 2、集合："
   ]
  },
  {
   "cell_type": "code",
   "execution_count": 106,
   "metadata": {},
   "outputs": [],
   "source": [
    "#set:集合,无序,元素只出现一次, 自动去重,使用”set([])”\n",
    "#set,数据只出现一次,只关心数据是否出现, 不关心其位置;\n",
    "bb = set([1,2,3,4,5,1,1,1,1])"
   ]
  },
  {
   "cell_type": "code",
   "execution_count": 107,
   "metadata": {},
   "outputs": [
    {
     "data": {
      "text/plain": [
       "{1, 2, 3, 4, 5}"
      ]
     },
     "execution_count": 107,
     "metadata": {},
     "output_type": "execute_result"
    }
   ],
   "source": [
    "bb"
   ]
  },
  {
   "cell_type": "code",
   "execution_count": 113,
   "metadata": {},
   "outputs": [
    {
     "data": {
      "text/plain": [
       "True"
      ]
     },
     "execution_count": 113,
     "metadata": {},
     "output_type": "execute_result"
    }
   ],
   "source": [
    "1 in bb"
   ]
  },
  {
   "cell_type": "code",
   "execution_count": 114,
   "metadata": {},
   "outputs": [
    {
     "data": {
      "text/plain": [
       "False"
      ]
     },
     "execution_count": 114,
     "metadata": {},
     "output_type": "execute_result"
    }
   ],
   "source": [
    "10 in bb"
   ]
  },
  {
   "cell_type": "markdown",
   "metadata": {},
   "source": [
    "### 3、链表"
   ]
  },
  {
   "cell_type": "code",
   "execution_count": 111,
   "metadata": {},
   "outputs": [],
   "source": [
    "#list:链表,有序的项目, 通过索引进行查找,使用方括号”[]”;\n",
    "#list, 简单的数据集合,可以使用索引;\n",
    "cc = list(bb)"
   ]
  },
  {
   "cell_type": "code",
   "execution_count": 112,
   "metadata": {},
   "outputs": [
    {
     "data": {
      "text/plain": [
       "3"
      ]
     },
     "execution_count": 112,
     "metadata": {},
     "output_type": "execute_result"
    }
   ],
   "source": [
    "cc[2]"
   ]
  },
  {
   "cell_type": "markdown",
   "metadata": {},
   "source": [
    "### 4、字典："
   ]
  },
  {
   "cell_type": "code",
   "execution_count": 115,
   "metadata": {
    "collapsed": true
   },
   "outputs": [],
   "source": [
    "#dict:字典,字典是一组键(key)和值(value)的组合,通过键(key)进行查找,没有顺序, 使用大括号”{}”;\n",
    "#dict,使用键值和值进行关联的数据;\n",
    "dd = {\"name\":\"willen\", \"age\":25, \"likes\":\"basketball\"}"
   ]
  },
  {
   "cell_type": "code",
   "execution_count": 116,
   "metadata": {},
   "outputs": [
    {
     "data": {
      "text/plain": [
       "25"
      ]
     },
     "execution_count": 116,
     "metadata": {},
     "output_type": "execute_result"
    }
   ],
   "source": [
    "dd[\"age\"]"
   ]
  }
 ],
 "metadata": {
  "kernelspec": {
   "display_name": "Python 3",
   "language": "python",
   "name": "python3"
  },
  "language_info": {
   "codemirror_mode": {
    "name": "ipython",
    "version": 3
   },
   "file_extension": ".py",
   "mimetype": "text/x-python",
   "name": "python",
   "nbconvert_exporter": "python",
   "pygments_lexer": "ipython3",
   "version": "3.5.4"
  }
 },
 "nbformat": 4,
 "nbformat_minor": 2
}
