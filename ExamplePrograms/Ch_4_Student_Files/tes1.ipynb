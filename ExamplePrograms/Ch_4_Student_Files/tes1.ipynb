{
 "cells": [
  {
   "cell_type": "code",
   "execution_count": 6,
   "metadata": {},
   "outputs": [
    {
     "name": "stdout",
     "output_type": "stream",
     "text": [
      "5\n",
      "4\n",
      "3\n",
      "2\n",
      "-1\n"
     ]
    }
   ],
   "source": [
    "\"\"\"\n",
    "File: testtwowaynode.py\n",
    "Tests the TwoWayNode class.\n",
    "\"\"\"\n",
    "\n",
    "from node import TwoWayNode\n",
    "\n",
    "# Create a doubly linked structure with one node\n",
    "head = TwoWayNode(-1)\n",
    "tail = head\n",
    "\n",
    "# Add four nodes to the end of the doubly linked structure\n",
    "for data in range(2, 6):\n",
    "    tail.next = TwoWayNode(data, tail)\n",
    "    tail = tail.next\n",
    "\n",
    "# Print the contents of the linked structure in reverse order\n",
    "probe = tail\n",
    "while probe != None:\n",
    "    print(probe.data)\n",
    "    probe = probe.previous"
   ]
  }
 ],
 "metadata": {
  "kernelspec": {
   "display_name": "Python 3",
   "language": "python",
   "name": "python3"
  },
  "language_info": {
   "codemirror_mode": {
    "name": "ipython",
    "version": 3
   },
   "file_extension": ".py",
   "mimetype": "text/x-python",
   "name": "python",
   "nbconvert_exporter": "python",
   "pygments_lexer": "ipython3",
   "version": "3.5.4"
  }
 },
 "nbformat": 4,
 "nbformat_minor": 2
}
